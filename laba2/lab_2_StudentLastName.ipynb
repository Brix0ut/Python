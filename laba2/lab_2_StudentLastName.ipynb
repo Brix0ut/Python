{
 "cells": [
  {
   "cell_type": "markdown",
   "id": "af966f1e-a7f3-4925-88da-f4aa32e61b21",
   "metadata": {},
   "source": [
    "# Лабораторна робота №2"
   ]
  },
  {
   "cell_type": "markdown",
   "id": "4d3d9ed2-fda5-4fdc-82a5-dd8ba92a89fd",
   "metadata": {},
   "source": [
    "## Завдання 1"
   ]
  },
  {
   "cell_type": "code",
   "execution_count": 12,
   "id": "83482aa5-6cc5-4779-a976-90291c8d30c1",
   "metadata": {},
   "outputs": [
    {
     "name": "stdout",
     "output_type": "stream",
     "text": [
      "Programming***Essentials****in...Python\n"
     ]
    }
   ],
   "source": [
    "print(\"Programming***Essentials****in...Python\")"
   ]
  },
  {
   "cell_type": "markdown",
   "id": "c15f7897-b250-4b7e-975a-0ccbcff22de8",
   "metadata": {},
   "source": [
    "## Завдання 2"
   ]
  },
  {
   "cell_type": "code",
   "execution_count": 9,
   "id": "7e3891ab-e1fe-4d9f-a560-9fcad5677009",
   "metadata": {},
   "outputs": [
    {
     "name": "stdout",
     "output_type": "stream",
     "text": [
      "    *\n",
      "   * *\n",
      "  *   *\n",
      " *     *\n",
      "***   ***\n",
      "  *   *\n",
      "  *   *\n",
      "  *****\n"
     ]
    }
   ],
   "source": [
    "print(\"    *\")\n",
    "print(\"   * *\")\n",
    "print(\"  *   *\")\n",
    "print(\" *     *\")\n",
    "print(\"***   ***\")\n",
    "print(\"  *   *\")\n",
    "print(\"  *   *\")\n",
    "print(\"  *****\")\n"
   ]
  },
  {
   "cell_type": "markdown",
   "id": "7024627d-9fce-410d-8e5a-a7732582e2d3",
   "metadata": {},
   "source": [
    "## Завдання 3"
   ]
  },
  {
   "cell_type": "code",
   "execution_count": 11,
   "id": "3bd12d1d-677b-4b04-bc83-3462e839b05c",
   "metadata": {},
   "outputs": [
    {
     "name": "stdout",
     "output_type": "stream",
     "text": [
      "I'm student\n"
     ]
    }
   ],
   "source": [
    "print (\"I'm student\")"
   ]
  },
  {
   "cell_type": "markdown",
   "id": "65fa3d0d-efb3-4583-a4ea-3c1e25d167b0",
   "metadata": {},
   "source": [
    "## Завдання 4"
   ]
  },
  {
   "cell_type": "code",
   "execution_count": 20,
   "id": "6cc62803-0806-43e8-af13-16f748515787",
   "metadata": {},
   "outputs": [
    {
     "name": "stdout",
     "output_type": "stream",
     "text": [
      "\"I'm\"\n",
      "\"\"learning\"\"\n",
      "\"\"\"Python\"\"\"\n"
     ]
    }
   ],
   "source": [
    "print (\"\\\"I'm\\\"\\n\\\"\\\"learning\\\"\\\"\\n\\\"\\\"\\\"Python\\\"\\\"\\\"\")"
   ]
  },
  {
   "cell_type": "markdown",
   "id": "9c425eb3-3bc7-4f78-860f-bd5ad56969c3",
   "metadata": {},
   "source": [
    "## Завдання 5"
   ]
  },
  {
   "cell_type": "code",
   "execution_count": 21,
   "id": "ac824298-ab26-47a3-a7c9-295580e26c8b",
   "metadata": {},
   "outputs": [
    {
     "name": "stdout",
     "output_type": "stream",
     "text": [
      "320\n"
     ]
    }
   ],
   "source": [
    "print(int(\"500\", 8))"
   ]
  },
  {
   "cell_type": "markdown",
   "id": "4624154a-72fd-4885-b650-0ceb6b17c308",
   "metadata": {},
   "source": [
    "## Завдання 6"
   ]
  },
  {
   "cell_type": "code",
   "execution_count": 22,
   "id": "8037604c-799c-4144-aa59-cefb0691c247",
   "metadata": {},
   "outputs": [
    {
     "name": "stdout",
     "output_type": "stream",
     "text": [
      "1911\n"
     ]
    }
   ],
   "source": [
    "print(int(\"777\", 16))"
   ]
  },
  {
   "cell_type": "markdown",
   "id": "2fa74845-993d-40da-ae46-fe6bc219959e",
   "metadata": {},
   "source": [
    "# Контрольні запитання"
   ]
  },
  {
   "cell_type": "markdown",
   "id": "ba243f38-1aa7-4c8f-9803-c3d4d06583fd",
   "metadata": {},
   "source": [
    "##  Завдання 1"
   ]
  },
  {
   "cell_type": "markdown",
   "id": "c4cfa32d-945e-4700-8636-b6ede5ed2fb1",
   "metadata": {},
   "source": [
    "Ієрархія операторів у Python визначає порядок виконання операцій у виразі. Найвищий пріоритет мають дужки <span style=\"color:blue\">()</span> , потім оператор зведення в степінь <span style=\"color:blue\">**</span>, унарні оператори <span style=\"color:blue\">(+, -, ~)</span>, оператори множення/ділення <span style=\"color:blue\">(*, /, //, %)</span>, додавання/віднімання <span style=\"color:blue\">(+, -)</span>, побітові операції, порівняння, а найнижчий пріоритет — логічні оператори <span style=\"color:blue\">not, and, or</span>. Якщо оператори мають однаковий пріоритет, вони виконуються зліва направо, за винятком оператора <span style=\"color:blue\">&#42;&#42;</span>, який виконується справа наліво. "
   ]
  },
  {
   "cell_type": "markdown",
   "id": "8afdf6c3-906b-4bce-bdd5-edc68042499f",
   "metadata": {},
   "source": [
    "## Завдання 2"
   ]
  },
  {
   "cell_type": "code",
   "execution_count": 23,
   "id": "7c02dd2b-20ce-4159-8953-6f00ffce6944",
   "metadata": {},
   "outputs": [
    {
     "name": "stdout",
     "output_type": "stream",
     "text": [
      "443426488243037769948249630619149892803\n"
     ]
    }
   ],
   "source": [
    "print(3**(3**4))"
   ]
  },
  {
   "cell_type": "markdown",
   "id": "e162517a-a14e-4526-9770-bf4ecb961957",
   "metadata": {},
   "source": [
    "## Завдання 3"
   ]
  },
  {
   "cell_type": "markdown",
   "id": "5393eb1e-037c-4266-bba6-c4c04992bffd",
   "metadata": {},
   "source": [
    "Escape-символи при виводі функцією <span style=\"color:blue\">print()</span> надають спеціальні команди для термінала або принтера, такі як перенесення рядка <span style=\"color:blue\">(\\n)</span>, табуляція <span style=\"color:blue\">(\\t)</span>, звуковий сигнал <span style=\"color:blue\">(\\a)</span>, або керують форматуванням тексту (наприклад, кольором) та іншими неграфічними функціями. Вони інтерпретуються як вказівки для пристрою виведення, а не як звичайні символи для відображення. "
   ]
  },
  {
   "cell_type": "markdown",
   "id": "31be9dcf-2116-4b94-82fc-2c9177f97fa1",
   "metadata": {},
   "source": [
    "#### Приклад:"
   ]
  },
  {
   "cell_type": "code",
   "execution_count": 1,
   "id": "65a59946-4ec1-401e-b2b7-c668b74f4e62",
   "metadata": {},
   "outputs": [
    {
     "name": "stdout",
     "output_type": "stream",
     "text": [
      "Привіт,\n",
      "світ!\n"
     ]
    }
   ],
   "source": [
    "    print(\"Привіт,\\nсвіт!\")"
   ]
  },
  {
   "cell_type": "code",
   "execution_count": 2,
   "id": "8efa81f0-69a8-450d-9fae-1b1f5799da56",
   "metadata": {},
   "outputs": [
    {
     "name": "stdout",
     "output_type": "stream",
     "text": [
      "Ім'я:\t\tВік:\n",
      "Олена:\t\t25\n"
     ]
    }
   ],
   "source": [
    "    print(\"Ім'я:\\t\\tВік:\")\n",
    "    print(\"Олена:\\t\\t25\")"
   ]
  },
  {
   "cell_type": "code",
   "execution_count": 3,
   "id": "b0ebe743-4e75-4afd-8e7a-d42499db2359",
   "metadata": {},
   "outputs": [
    {
     "name": "stdout",
     "output_type": "stream",
     "text": [
      "Це рядок у подвійних лапках: \"Hello\"\n",
      "Це рядок в одинарних лапках: 'World'\n"
     ]
    }
   ],
   "source": [
    "    print(\"Це рядок у подвійних лапках: \\\"Hello\\\"\")\n",
    "    print('Це рядок в одинарних лапках: \\'World\\'')"
   ]
  },
  {
   "cell_type": "code",
   "execution_count": null,
   "id": "4f5b3722-a9b7-46c0-8fee-e6b4591c6117",
   "metadata": {},
   "outputs": [],
   "source": []
  }
 ],
 "metadata": {
  "kernelspec": {
   "display_name": "Python [conda env:base] *",
   "language": "python",
   "name": "conda-base-py"
  },
  "language_info": {
   "codemirror_mode": {
    "name": "ipython",
    "version": 3
   },
   "file_extension": ".py",
   "mimetype": "text/x-python",
   "name": "python",
   "nbconvert_exporter": "python",
   "pygments_lexer": "ipython3",
   "version": "3.13.5"
  }
 },
 "nbformat": 4,
 "nbformat_minor": 5
}
